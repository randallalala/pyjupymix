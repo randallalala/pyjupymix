{
 "cells": [
  {
   "cell_type": "code",
   "execution_count": 3,
   "metadata": {},
   "outputs": [
    {
     "data": {
      "text/plain": [
       "'$725,000'"
      ]
     },
     "execution_count": 3,
     "metadata": {},
     "output_type": "execute_result"
    }
   ],
   "source": [
    "import requests\n",
    "from bs4 import BeautifulSoup\n",
    "\n",
    "r=requests.get(\"https://pythonizing.github.io/data/real-estate/rock-springs-wy/LCWYROCKSPRINGS/\")\n",
    "c=r.content\n",
    "\n",
    "\n",
    "soup=BeautifulSoup(c,\"html.parser\")\n",
    "\n",
    "all=soup.find_all(\"div\",{\"class\":\"propertyRow\"})\n",
    "\n",
    "len(all)\n",
    "\n",
    "type(all)\n",
    "\n",
    "all[0].find(\"h4\",{\"class\":\"propPrice\"}).text\n",
    "\n",
    "type(all[0].find(\"h4\",{\"class\":\"propPrice\"}).text)\n",
    "\n",
    "all[0].find(\"h4\",{\"class\":\"propPrice\"}).text.replace(\"\\n\", \"\" ).replace(\" \", \"\" )"
   ]
  },
  {
   "cell_type": "code",
   "execution_count": 5,
   "metadata": {},
   "outputs": [
    {
     "name": "stdout",
     "output_type": "stream",
     "text": [
      "$725,000\n",
      "0 Gateway\n",
      "Rock Springs, WY 82901\n",
      "None\n",
      "None\n",
      "None\n",
      " \n",
      "$452,900\n",
      "1003 Winchester Blvd.\n",
      "Rock Springs, WY 82901\n",
      "4beds\n",
      "None\n",
      "None\n",
      " \n",
      "$396,900\n",
      "600 Talladega\n",
      "Rock Springs, WY 82901\n",
      "5beds\n",
      "3,154sqft\n",
      "None\n",
      " \n",
      "$389,900\n",
      "3239 Spearhead Way\n",
      "Rock Springs, WY 82901\n",
      "4beds\n",
      "3,076sqft\n",
      "1bath\n",
      " \n",
      "$254,000\n",
      "522 Emerald Street\n",
      "Rock Springs, WY 82901\n",
      "3beds\n",
      "1,172sqft\n",
      "None\n",
      " \n",
      "$252,900\n",
      "1302 Veteran's Drive\n",
      "Rock Springs, WY 82901\n",
      "4beds\n",
      "1,932sqft\n",
      "None\n",
      " \n",
      "$210,000\n",
      "1021 Cypress Cir\n",
      "Rock Springs, WY 82901\n",
      "4beds\n",
      "1,676sqft\n",
      "None\n",
      " \n",
      "$209,000\n",
      "913 Madison Dr\n",
      "Rock Springs, WY 82901\n",
      "3beds\n",
      "1,344sqft\n",
      "None\n",
      " \n",
      "$199,900\n",
      "1344 Teton Street\n",
      "Rock Springs, WY 82901\n",
      "3beds\n",
      "1,920sqft\n",
      "None\n",
      " \n",
      "$196,900\n",
      "4 Minnies Lane\n",
      "Rock Springs, WY 82901\n",
      "3beds\n",
      "1,664sqft\n",
      "None\n",
      " \n"
     ]
    }
   ],
   "source": [
    "for item in all:\n",
    "   print(item.find(\"h4\", {\"class\": \"propPrice\"}\n",
    "                  ).text.replace(\"\\n\", \"\").replace(\" \", \"\"))\n",
    "   print(item.find_all(\"span\", {\"class\": \"propAddressCollapse\"})[0].text)\n",
    "   print(item.find_all(\"span\", {\"class\": \"propAddressCollapse\"})[1].text)\n",
    "   try:\n",
    "      print(item.find(\"span\", {\"class\": \"infoBed\"}).find(\"b\").text + \"beds\")\n",
    "   except:\n",
    "      print(None)\n",
    "   try:\n",
    "      print(item.find(\"span\", {\"class\": \"infoSqFt\"}).find(\"b\").text + \"sqft\")\n",
    "   except:\n",
    "      print(None)\n",
    "   try:\n",
    "      print(item.find(\"span\", {\"class\": \"infoValueHalfBath\"}).find(\n",
    "         \"b\").text + \"bath\")\n",
    "   except:\n",
    "      print(None)\n",
    "   print(\" \")\n"
   ]
  }
 ],
 "metadata": {
  "interpreter": {
   "hash": "e29258ca36c23f2b9b2be906d52bf473419449ec63ad90d92dbc1cf25dbb8b0c"
  },
  "kernelspec": {
   "display_name": "Python 3.10.2 64-bit",
   "language": "python",
   "name": "python3"
  },
  "language_info": {
   "codemirror_mode": {
    "name": "ipython",
    "version": 3
   },
   "file_extension": ".py",
   "mimetype": "text/x-python",
   "name": "python",
   "nbconvert_exporter": "python",
   "pygments_lexer": "ipython3",
   "version": "3.10.2"
  },
  "orig_nbformat": 4
 },
 "nbformat": 4,
 "nbformat_minor": 2
}
